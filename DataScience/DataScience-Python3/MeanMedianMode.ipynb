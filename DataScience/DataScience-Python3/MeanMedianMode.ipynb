{
 "cells": [
  {
   "cell_type": "markdown",
   "metadata": {
    "deletable": true,
    "editable": true
   },
   "source": [
    "# Mean, Median, Mode, and introducing NumPy"
   ]
  },
  {
   "cell_type": "markdown",
   "metadata": {
    "deletable": true,
    "editable": true
   },
   "source": [
    "## Mean vs. Median"
   ]
  },
  {
   "cell_type": "markdown",
   "metadata": {
    "deletable": true,
    "editable": true
   },
   "source": [
    "Let's create some fake income data, centered around 27,000 with a normal distribution and standard deviation of 15,000, with 10,000 data points. (We'll discuss those terms more later, if you're not familiar with them.)\n",
    "\n",
    "Then, compute the mean (average) - it should be close to 27,000:"
   ]
  },
  {
   "cell_type": "code",
   "execution_count": 17,
   "metadata": {
    "collapsed": false,
    "deletable": true,
    "editable": true
   },
   "outputs": [
    {
     "data": {
      "text/plain": [
       "27015.74021676574"
      ]
     },
     "execution_count": 17,
     "metadata": {},
     "output_type": "execute_result"
    }
   ],
   "source": [
    "import numpy as np\n",
    "\n",
    "incomes = np.random.normal(27000, 15000, 10000)\n",
    "np.mean(incomes)\n"
   ]
  },
  {
   "cell_type": "markdown",
   "metadata": {
    "deletable": true,
    "editable": true
   },
   "source": [
    "We can segment the income data into 50 buckets, and plot it as a histogram:"
   ]
  },
  {
   "cell_type": "code",
   "execution_count": 12,
   "metadata": {
    "collapsed": false,
    "deletable": true,
    "editable": true
   },
   "outputs": [
    {
     "data": {
      "image/png": "[encoded data removed]",
      "text/plain": [
       "<Figure size 432x288 with 1 Axes>"
      ]
     },
     "metadata": {},
     "output_type": "display_data"
    }
   ],
   "source": [
    "%matplotlib inline\n",
    "import matplotlib.pyplot as plt\n",
    "plt.hist(incomes, 50)\n",
    "plt.show()"
   ]
  },
  {
   "cell_type": "markdown",
   "metadata": {
    "deletable": true,
    "editable": true
   },
   "source": [
    "Now compute the median - since we have a nice, even distribution it too should be close to 27,000:"
   ]
  },
  {
   "cell_type": "code",
   "execution_count": 3,
   "metadata": {
    "collapsed": false,
    "deletable": true,
    "editable": true
   },
   "outputs": [
    {
     "data": {
      "text/plain": [
       "27195.153719614136"
      ]
     },
     "execution_count": 3,
     "metadata": {},
     "output_type": "execute_result"
    }
   ],
   "source": [
    "np.median(incomes)"
   ]
  },
  {
   "cell_type": "markdown",
   "metadata": {
    "deletable": true,
    "editable": true
   },
   "source": [
    "Now we'll add Donald Trump into the mix. Darn income inequality!"
   ]
  },
  {
   "cell_type": "code",
   "execution_count": 13,
   "metadata": {
    "collapsed": false,
    "deletable": true,
    "editable": true
   },
   "outputs": [],
   "source": [
    "incomes = np.append(incomes, [1000000000])"
   ]
  },
  {
   "cell_type": "markdown",
   "metadata": {
    "deletable": true,
    "editable": true
   },
   "source": [
    "The median won't change much, but the mean does:"
   ]
  },
  {
   "cell_type": "code",
   "execution_count": 14,
   "metadata": {
    "collapsed": false,
    "deletable": true,
    "editable": true
   },
   "outputs": [
    {
     "data": {
      "text/plain": [
       "26900.87916746066"
      ]
     },
     "execution_count": 14,
     "metadata": {},
     "output_type": "execute_result"
    }
   ],
   "source": [
    "np.median(incomes)"
   ]
  },
  {
   "cell_type": "code",
   "execution_count": 15,
   "metadata": {
    "collapsed": false,
    "deletable": true,
    "editable": true
   },
   "outputs": [
    {
     "data": {
      "text/plain": [
       "126925.50752200132"
      ]
     },
     "execution_count": 15,
     "metadata": {},
     "output_type": "execute_result"
    }
   ],
   "source": [
    "np.mean(incomes)"
   ]
  },
  {
   "cell_type": "markdown",
   "metadata": {
    "deletable": true,
    "editable": true
   },
   "source": [
    "## Mode"
   ]
  },
  {
   "cell_type": "markdown",
   "metadata": {
    "deletable": true,
    "editable": true
   },
   "source": [
    "Next, let's generate some fake age data for 500 people:"
   ]
  },
  {
   "cell_type": "code",
   "execution_count": 25,
   "metadata": {
    "collapsed": false,
    "deletable": true,
    "editable": true
   },
   "outputs": [
    {
     "data": {
      "text/plain": [
       "array([27, 38, 57, 81, 31, 49, 69, 42, 34, 42, 77, 83, 77, 73, 58, 85, 76,\n",
       "       39, 70, 33, 60, 40, 54, 86, 43, 29, 19, 33, 38, 50, 71, 80, 53, 49,\n",
       "       22, 44, 40, 48, 89, 53, 49, 75, 24, 35, 56, 83, 52, 44, 50, 20, 45,\n",
       "       83, 73, 48, 60, 22, 25, 71, 82, 34, 70, 83, 45, 33, 49, 32, 28, 73,\n",
       "       70, 44, 73, 18, 36, 42, 69, 24, 29, 20, 50, 49, 34, 59, 81, 59, 52,\n",
       "       34, 76, 29, 73, 68, 49, 52, 30, 62, 85, 67, 55, 49, 51, 36, 49, 86,\n",
       "       53, 67, 43, 62, 45, 41, 72, 41, 71, 28, 58, 19, 52, 73, 66, 51, 44,\n",
       "       81, 64, 65, 68, 60, 36, 62, 61, 81, 65, 20, 31, 34, 26, 43, 73, 35,\n",
       "       76, 23, 84, 34, 54, 87, 66, 87, 30, 51, 87, 55, 67, 52, 50, 31, 39,\n",
       "       60, 18, 88, 81, 73, 21, 63, 44, 18, 21, 70, 43, 56, 18, 75, 64, 53,\n",
       "       39, 43, 81, 62, 41, 66, 59, 29, 79, 41, 71, 76, 54, 67, 37, 76, 31,\n",
       "       21, 45, 21, 48, 87, 75, 59, 63, 35, 84, 46, 67, 68, 18, 46, 41, 18,\n",
       "       40, 56, 62, 66, 39, 52, 45, 63, 18, 62, 76, 29, 74, 86, 65, 19, 52,\n",
       "       82, 75, 88, 31, 78, 68, 87, 41, 86, 38, 22, 82, 36, 45, 69, 24, 48,\n",
       "       58, 84, 77, 61, 21, 89, 55, 36, 74, 53, 60, 45, 31, 26, 32, 47, 53,\n",
       "       47, 24, 59, 38, 70, 78, 83, 46, 51, 51, 26, 67, 46, 81, 54, 31, 89,\n",
       "       55, 52, 75, 27, 71, 25, 76, 67, 28, 63, 57, 61, 56, 46, 60, 35, 85,\n",
       "       30, 36, 61, 89, 40, 38, 82, 68, 51, 80, 44, 44, 42, 39, 56, 66, 80,\n",
       "       47, 19, 24, 56, 88, 25, 87, 47, 53, 68, 77, 20, 58, 37, 20, 60, 31,\n",
       "       68, 51, 45, 47, 73, 75, 86, 42, 48, 89, 76, 19, 77, 61, 56, 23, 89,\n",
       "       27, 28, 78, 70, 23, 48, 29, 83, 39, 53, 78, 50, 64, 85, 86, 77, 78,\n",
       "       54, 74, 29, 56, 84, 50, 52, 77, 56, 59, 40, 83, 85, 41, 42, 85, 21,\n",
       "       38, 65, 85, 36, 34, 27, 53, 53, 47, 26, 42, 73, 23, 56, 86, 68, 62,\n",
       "       79, 69, 80, 23, 80, 37, 71, 86, 57, 65, 82, 55, 77, 21, 75, 57, 82,\n",
       "       28, 77, 55, 41, 83, 88, 87, 64, 21, 83, 33, 23, 45, 30, 83, 25, 85,\n",
       "       20, 88, 70, 80, 86, 32, 25, 66, 74, 49, 64, 18, 75, 74, 42, 70, 78,\n",
       "       32, 84, 64, 48, 55, 73, 81, 53, 65, 18, 80, 40, 20, 27, 73, 40, 19,\n",
       "       49, 75, 29, 42, 75, 59, 21, 21, 26, 66, 22, 63, 30, 35, 76, 41, 28,\n",
       "       37, 86, 84, 83, 80, 25, 88, 52, 39, 78, 89, 82, 81, 82, 81, 55, 63,\n",
       "       46, 29, 24, 70, 27, 71, 19])"
      ]
     },
     "execution_count": 25,
     "metadata": {},
     "output_type": "execute_result"
    }
   ],
   "source": [
    "ages = np.random.randint(18, high=90, size=500)\n",
    "ages"
   ]
  },
  {
   "cell_type": "code",
   "execution_count": 22,
   "metadata": {
    "collapsed": false,
    "deletable": true,
    "editable": true
   },
   "outputs": [
    {
     "data": {
      "text/plain": [
       "ModeResult(mode=array([44]), count=array([16]))"
      ]
     },
     "execution_count": 22,
     "metadata": {},
     "output_type": "execute_result"
    }
   ],
   "source": [
    "from scipy import stats\n",
    "stats.mode(ages)"
   ]
  },
  {
   "cell_type": "code",
   "execution_count": null,
   "metadata": {
    "collapsed": false,
    "deletable": true,
    "editable": true
   },
   "outputs": [],
   "source": []
  }
 ],
 "metadata": {
  "kernelspec": {
   "display_name": "Python 3",
   "language": "python",
   "name": "python3"
  },
  "language_info": {
   "codemirror_mode": {
    "name": "ipython",
    "version": 3
   },
   "file_extension": ".py",
   "mimetype": "text/x-python",
   "name": "python",
   "nbconvert_exporter": "python",
   "pygments_lexer": "ipython3",
   "version": "3.6.5"
  }
 },
 "nbformat": 4,
 "nbformat_minor": 0
}
