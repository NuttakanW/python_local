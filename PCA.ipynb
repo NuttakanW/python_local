{
 "cells": [
  {
   "cell_type": "code",
   "execution_count": 1,
   "metadata": {
    "collapsed": false,
    "deletable": true,
    "editable": true
   },
   "outputs": [
    {
     "ename": "SyntaxError",
     "evalue": "invalid syntax (<ipython-input-1-d187a06a6e02>, line 21)",
     "output_type": "error",
     "traceback": [
      "\u001b[0;36m  File \u001b[0;32m\"<ipython-input-1-d187a06a6e02>\"\u001b[0;36m, line \u001b[0;32m21\u001b[0m\n\u001b[0;31m    back = Image.new(\"RGB\", max_size, \"white\")\u001b[0m\n\u001b[0m         ^\u001b[0m\n\u001b[0;31mSyntaxError\u001b[0m\u001b[0;31m:\u001b[0m invalid syntax\n"
     ]
    }
   ],
   "source": [
    "import matplotlib.pyplot as plt\n",
    "import matplotlib.image as mpimg\n",
    "from matplotlib.pyplot import imread, imshow, show, subplot, title, get_cmap, hist\n",
    "import numpy as np\n",
    "from PIL import Image, ImageOps, ImageChops\n",
    "import cv2\n",
    "import os\n",
    "\n",
    "#Inline Matplot graphics into the notebook\n",
    "%matplotlib inline\n",
    "# From: https://gist.github.com/fabeat/6621507\n",
    "# Using the version in the comments to the Gist\n",
    "# Best practice default is using Bicubic rather than Antialias per http://pillow.readthedoc\n",
    "def scale(image, max_size=(128,128), method=Image.BICUBIC):\n",
    "    \"\"\"\n",
    "    resize 'image' to 'max_size' keeping the aspect ratio\n",
    "    and place it in center of white 'max_size' image\n",
    "    \"\"\"\n",
    "    image.thumbnail(max_size, method)\n",
    "    offset = (int((max_size[0] - image.size[0]) // 2), int((max_size[1] - image.\n",
    "    back = Image.new(\"RGB\", max_size, \"white\")\n",
    "    back.paste(image, offset)\n",
    "    return back"
   ]
  }
 ],
 "metadata": {
  "kernelspec": {
   "display_name": "Python 3",
   "language": "python",
   "name": "python3"
  },
  "language_info": {
   "codemirror_mode": {
    "name": "ipython",
    "version": 3
   },
   "file_extension": ".py",
   "mimetype": "text/x-python",
   "name": "python",
   "nbconvert_exporter": "python",
   "pygments_lexer": "ipython3",
   "version": "3.6.5"
  }
 },
 "nbformat": 4,
 "nbformat_minor": 2
}
